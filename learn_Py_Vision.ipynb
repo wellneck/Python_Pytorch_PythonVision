{
 "cells": [
  {
   "cell_type": "code",
   "execution_count": null,
   "metadata": {},
   "outputs": [],
   "source": [
    "from PIL import Image\n",
    "pil_img = Image.open('7071.jpg')"
   ]
  },
  {
   "cell_type": "code",
   "execution_count": null,
   "metadata": {},
   "outputs": [],
   "source": [
    "pil_img.save('test.png')"
   ]
  },
  {
   "cell_type": "code",
   "execution_count": null,
   "metadata": {},
   "outputs": [],
   "source": [
    "from pylab import *"
   ]
  },
  {
   "cell_type": "code",
   "execution_count": null,
   "metadata": {},
   "outputs": [],
   "source": [
    "im  = array(pil_img)\n",
    "imshow(im)\n",
    "\n",
    "x = [100,100,400,400]\n",
    "y = [200,500,200,500]\n",
    "plot(x,y,'r*')\n",
    "plot(x[:2],y[:2])\n",
    "title('plotting:\"empire.jpg\"')\n",
    "axis('off')\n",
    "show()\n"
   ]
  },
  {
   "cell_type": "markdown",
   "metadata": {},
   "source": []
  },
  {
   "cell_type": "code",
   "execution_count": null,
   "metadata": {},
   "outputs": [],
   "source": [
    "im  = array(pil_img)\n",
    "imshow(im)"
   ]
  },
  {
   "cell_type": "code",
   "execution_count": null,
   "metadata": {},
   "outputs": [],
   "source": [
    "plot(x[:2],y[:2])"
   ]
  },
  {
   "cell_type": "code",
   "execution_count": null,
   "metadata": {},
   "outputs": [],
   "source": [
    "plot(x,y,'r*')"
   ]
  },
  {
   "cell_type": "code",
   "execution_count": null,
   "metadata": {},
   "outputs": [],
   "source": [
    "figure()\n",
    "gray()\n",
    "contour(im.convert('L'),origin='image')\n",
    "axis('equal')\n",
    "axis('off')"
   ]
  },
  {
   "cell_type": "code",
   "execution_count": 1,
   "metadata": {},
   "outputs": [
    {
     "data": {
      "text/plain": [
       "''"
      ]
     },
     "execution_count": 1,
     "metadata": {},
     "output_type": "execute_result"
    }
   ],
   "source": [
    "#  Homography\n",
    "def normalize(points):\n",
    "    '''在齐次坐标意义下，对点集进行归一化，使最后一行为1'''\n",
    "    for row in points:\n",
    "        row /= points[-1]\n",
    "        return points\n",
    "def make_homog(points):\n",
    "    '''将点集（dim x n的数组）转换为齐次坐标表示'''\n",
    "    return vstack((points,ones((1,points.shape[1]))))"
   ]
  },
  {
   "cell_type": "code",
   "execution_count": 1,
   "metadata": {},
   "outputs": [],
   "source": [
    "#DLT -> Ah = 0\n",
    "def H_from_points(fp,tp):\n",
    "    '''使用DLT方法，计算单应性矩阵H，使fp映射到tp。点自动进行归一化'''\n",
    "    if fp.shape != tp.shape:\n",
    "        raise RuntimeError('number of points do not match')\n",
    "    \n",
    "    # 对点对进行归一化\n",
    "    # --映射起始点--\n",
    "    m = mean(fp[:2], axis=1)\n",
    "    maxstd = max(std(fp[:2],axis)) + 1e-9\n",
    "    C1 = diag([1/maxstd,1/maxstd,1])\n",
    "    C1[0][2] = -m[0]/maxstd\n",
    "    C1[1][2] = -m[1]/maxstd\n",
    "    fp_cond = dot(C1,fp)\n",
    "    \n",
    "    # --映射对应点\n",
    "    m = mean(tp[:2], axis=1)\n",
    "    maxstd = max(std(tp[:2],axis)) + 1e-9\n",
    "    C1 = diag([1/maxstd,1/maxstd,1])\n",
    "    C1[0][2] = -m[0]/maxstd\n",
    "    C1[1][2] = -m[1]/maxstd\n",
    "    tp_cond = dot(C1,tp)\n",
    "    #\n",
    "    A = concatenate((fp_cond[:2],tp_cond[:2]),axis=0)\n",
    "    U,S,V = linalg.svd(A.T)\n",
    "    \n",
    "    # \n",
    "    # 创建矩阵B和C\n",
    "    tmp = V[:2].T\n",
    "    B = tmp[:2]\n",
    "    C = tmp[2:4]\n",
    "    \n",
    "    tmp2 = concatenate((dot(C,)))\n",
    "    \n",
    "    \n"
   ]
  },
  {
   "cell_type": "code",
   "execution_count": null,
   "metadata": {},
   "outputs": [],
   "source": []
  }
 ],
 "metadata": {
  "interpreter": {
   "hash": "b112f28338b85b841840c8df0f6d71c42496f15853a8b0772cb6568add9d7ab1"
  },
  "kernelspec": {
   "display_name": "Python 3.7.11 64-bit ('pytorch': conda)",
   "name": "python3"
  },
  "language_info": {
   "codemirror_mode": {
    "name": "ipython",
    "version": 3
   },
   "file_extension": ".py",
   "mimetype": "text/x-python",
   "name": "python",
   "nbconvert_exporter": "python",
   "pygments_lexer": "ipython3",
   "version": "3.7.11"
  },
  "orig_nbformat": 4
 },
 "nbformat": 4,
 "nbformat_minor": 2
}
